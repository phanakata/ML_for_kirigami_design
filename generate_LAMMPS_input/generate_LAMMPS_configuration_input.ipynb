{
 "cells": [
  {
   "cell_type": "code",
   "execution_count": 1,
   "metadata": {
    "collapsed": true
   },
   "outputs": [],
   "source": [
    "\"\"\"\n",
    "Author: Paul Z. Hanakata\n",
    "2018 \n",
    "Boston University\n",
    "This code generates LAMMPS input atomic positions \n",
    "\"\"\"\n",
    "import numpy as np\n",
    "from matplotlib.backends.backend_pdf import PdfPages\n",
    "import sys \n",
    "sys.path.append(\"../tools/\")\n",
    "\n",
    "#module to handle mapping strings <-> arrays\n",
    "from helper_functions import * \n",
    "#module to read and preprocess raw data\n",
    "from preprocess import * \n",
    "#module to generate lattice\n",
    "from generate_lattice import * \n",
    "#module to generate combinations based on symmetry\n",
    "from generate_combinations import *"
   ]
  },
  {
   "cell_type": "code",
   "execution_count": 2,
   "metadata": {
    "collapsed": true
   },
   "outputs": [],
   "source": [
    "\"\"\"Unit cell parameters\n",
    "\n",
    "Parameters: \n",
    "Units are in Angstrom   \n",
    "---------------------------------------------\n",
    "cell_x, y, z : float \n",
    "    cell lattice vector in x, y, z direction  \n",
    "ncell_x, y, z : int \n",
    "    number of cells in x, y, z direction \n",
    "NCcell_x, y : int \n",
    "    number of coarse cut grid\n",
    "    \n",
    "\n",
    "Attributes:\n",
    "-------------------------------------------\n",
    "Lx, Ly, Lz: float\n",
    "    Systems dimensions\n",
    "cx, cy: float\n",
    "    Cut dimensions \n",
    "\"\"\"\n",
    "cell_x = 4.118 \n",
    "cell_y = 2.37752840852\n",
    "cell_z = 4.118 \n",
    "\n",
    "ncell_x = 17\n",
    "ncell_y = 40\n",
    "ncell_z = 0\n",
    "#make cells in postive x and negative x\n",
    "ncell_x = 2*ncell_x\n",
    "ncell_y = 2*ncell_y\n",
    "\n",
    "#coarse grain cuts \n",
    "NCcell_x = 3\n",
    "NCcell_y = 5\n",
    "\n",
    "Lx = cell_x * ncell_x # ribbon length\n",
    "Ly = cell_y * ncell_y # ribbon width \n",
    "Lz = cell_z * 1 #thickness, the actual value doesn't matter because we use wrap boundary condition in LAMMPS\n",
    "\n",
    "#cut sizes\n",
    "cx = (Lx-4*cell_x)/NCcell_x\n",
    "cy = (Ly)/NCcell_y"
   ]
  },
  {
   "cell_type": "code",
   "execution_count": 3,
   "metadata": {},
   "outputs": [
    {
     "name": "stdout",
     "output_type": "stream",
     "text": [
      "Ribbon dimensions Lx=140.012A, Ly=190.2022726816A\n",
      "One single cut(hole) dimensions cx=41.18A, cy=38.04045453632A\n"
     ]
    }
   ],
   "source": [
    "print(\"Ribbon dimensions Lx=\"+str(Lx)+\"A, Ly=\"+str(Ly)+\"A\" )\n",
    "print(\"One single cut(hole) dimensions cx=\"+str(cx)+\"A, cy=\"+str(cy)+\"A\" )\n",
    "#thinning in monolayer/few layers phosphorus using TEM can go to few nm\n",
    "#ACS Nano, 2016, 10 (6), pp 5687–5695! "
   ]
  },
  {
   "cell_type": "code",
   "execution_count": 4,
   "metadata": {
    "collapsed": true
   },
   "outputs": [],
   "source": [
    "\"\"\"\n",
    "Main function\n",
    "Generate all configurations from combinations functions \n",
    "\"\"\"\n",
    "\n",
    "l = generate_binary(NCcell_x*NCcell_y, [])\n",
    "listBinary = findCombinations_rs_yxy_wo_detached(l, NCcell_x, NCcell_y,12)\n",
    "\n",
    "start = 0\n",
    "end  = len(listBinary)\n",
    "\n",
    "listAll =[]\n",
    "listDensity=[]\n",
    "data_base=[]\n",
    "#careful with this '4'! \n",
    "for rd in range(start, end, 4):\n",
    "    \n",
    "    #file name\n",
    "    filename = \"geo.kirigami_d0.20_sAC_\"\n",
    "    \n",
    "    stringsBinary = listBinary[rd]\n",
    "    cutConfigurations = toArray(stringsBinary)\n",
    "\n",
    "    \n",
    "    #create genome_ID in string format\n",
    "    genome_ID = toString(cutConfigurations)  \n",
    "    \n",
    "    #create PRISTINE inner region\n",
    "    inner = generateInnerCell(NCcell_x, NCcell_y, ncell_x, ncell_y)\n",
    "    #cut inner region\n",
    "    inner_wCuts = makeCutsonCell(cutConfigurations, inner, NCcell_x, NCcell_y, ncell_x, ncell_y)\n",
    "    #add edges with not cuts for loading in LAMMPS simulations \n",
    "    kirigami = addEdges(inner_wCuts, ncell_x, ncell_y)\n",
    "\n",
    "    #create graphene lattice with cuts\n",
    "    la = generateLattice(kirigami, NCcell_x, NCcell_y, ncell_x, ncell_y, cell_x, cell_y, cell_z, Lx, Ly, Lz)\n",
    "    \n",
    "    #get boundary \n",
    "    xhi, xlo, yhi, ylo, zhi, zlo = getSize(la)\n",
    "    listAll.append(la)\n",
    "    \n",
    "    #UNFLAG this to save LAMMPS input output files \n",
    "    #writeInput(rd//4, la, filename)"
   ]
  },
  {
   "cell_type": "code",
   "execution_count": 5,
   "metadata": {},
   "outputs": [
    {
     "data": {
      "image/png": "[encoded data removed]",
      "text/plain": [
       "<matplotlib.figure.Figure at 0x11590fbe0>"
      ]
     },
     "metadata": {},
     "output_type": "display_data"
    },
    {
     "data": {
      "image/png": "[encoded data removed]",
      "text/plain": [
       "<matplotlib.figure.Figure at 0x1159ee358>"
      ]
     },
     "metadata": {},
     "output_type": "display_data"
    },
    {
     "data": {
      "image/png": "[encoded data removed]",
      "text/plain": [
       "<matplotlib.figure.Figure at 0x115c67e10>"
      ]
     },
     "metadata": {},
     "output_type": "display_data"
    },
    {
     "data": {
      "image/png": "[encoded data removed]",
      "text/plain": [
       "<matplotlib.figure.Figure at 0x115d97f98>"
      ]
     },
     "metadata": {},
     "output_type": "display_data"
    },
    {
     "data": {
      "image/png": "[encoded data removed]",
      "text/plain": [
       "<matplotlib.figure.Figure at 0x115dc9390>"
      ]
     },
     "metadata": {},
     "output_type": "display_data"
    },
    {
     "data": {
      "image/png": "[encoded data removed]",
      "text/plain": [
       "<matplotlib.figure.Figure at 0x116023eb8>"
      ]
     },
     "metadata": {},
     "output_type": "display_data"
    },
    {
     "data": {
      "image/png": "[encoded data removed]",
      "text/plain": [
       "<matplotlib.figure.Figure at 0x1160a5a58>"
      ]
     },
     "metadata": {},
     "output_type": "display_data"
    },
    {
     "data": {
      "image/png": "[encoded data removed]",
      "text/plain": [
       "<matplotlib.figure.Figure at 0x116138e48>"
      ]
     },
     "metadata": {},
     "output_type": "display_data"
    },
    {
     "data": {
      "image/png": "[encoded data removed]",
      "text/plain": [
       "<matplotlib.figure.Figure at 0x11611ae10>"
      ]
     },
     "metadata": {},
     "output_type": "display_data"
    },
    {
     "data": {
      "image/png": "[encoded data removed]",
      "text/plain": [
       "<matplotlib.figure.Figure at 0x1164c7ac8>"
      ]
     },
     "metadata": {},
     "output_type": "display_data"
    }
   ],
   "source": [
    "\"\"\"\n",
    "Function to visualize kirigami\n",
    "\"\"\"\n",
    "import matplotlib.pyplot as plt\n",
    "\n",
    "fig = plt.figure()\n",
    "#sns.set_context(\"paper\", font_scale=2, rc={\"lines.linewidth\": 2.5})\n",
    "\n",
    "\n",
    "#for j in range(len(listAll)):\n",
    "for j in range(0, 10):\n",
    "    #j=0\n",
    "    listAtoms = listAll[j]\n",
    "    X = np.zeros(len(listAtoms))\n",
    "    Y = np.zeros(len(listAtoms))\n",
    "    Z = np.zeros(len(listAtoms))\n",
    "    for i in  range(len(listAtoms)):\n",
    "        X[i] = listAtoms[i][0]\n",
    "        Y[i] = listAtoms[i][1]\n",
    "        Z[i] = listAtoms[i][2]\n",
    "    \n",
    "    plt.scatter(X, Y, alpha=1, s=10, color='grey')\n",
    "    #plt.xlabel('X(A)')\n",
    "    #plt.ylabel('Y(A)')\n",
    "    plt.tick_params(top='off', bottom='off', left='off', right='off', labelleft='off', labelbottom='off')\n",
    "    #fig.patch.set_visible(False)\n",
    "    for spine in plt.gca().spines.values():\n",
    "        spine.set_visible(False)\n",
    "    plt.show()\n"
   ]
  },
  {
   "cell_type": "code",
   "execution_count": null,
   "metadata": {
    "collapsed": true
   },
   "outputs": [],
   "source": []
  }
 ],
 "metadata": {
  "kernelspec": {
   "display_name": "Python 3",
   "language": "python",
   "name": "python3"
  },
  "language_info": {
   "codemirror_mode": {
    "name": "ipython",
    "version": 3
   },
   "file_extension": ".py",
   "mimetype": "text/x-python",
   "name": "python",
   "nbconvert_exporter": "python",
   "pygments_lexer": "ipython3",
   "version": "3.6.1"
  }
 },
 "nbformat": 4,
 "nbformat_minor": 2
}
